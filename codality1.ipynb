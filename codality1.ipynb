{
 "cells": [
  {
   "cell_type": "code",
   "execution_count": 1,
   "id": "6837f661",
   "metadata": {
    "vscode": {
     "languageId": "plaintext"
    }
   },
   "outputs": [],
   "source": [
    "import pandas as pd\n",
    "from sklearn.feature_extraction.text import TfidfVectorizer\n",
    "from sklearn.linear_model import LogisticRegression\n",
    "from sklearn.naive_bayes import MultinomialNB\n",
    "from sklearn.tree import DecisionTreeClassifier\n",
    "from sklearn.svm import LinearSVC\n",
    "from sklearn.metrics import confusion_matrix"
   ]
  },
  {
   "cell_type": "code",
   "execution_count": 2,
   "id": "f8b4effc-9610-4f76-b9c3-8fad48ee3d75",
   "metadata": {},
   "outputs": [],
   "source": [
    "def spam_detector(train_df, valid_df, test_df):\n",
    "    vectorizer = TfidfVectorizer(min_df=2, ngram_range=(1, 2))\n",
    "    X_train = vectorizer.fit_transform(train_df['text'])\n",
    "    X_valid = vectorizer.transform(valid_df['text'])\n",
    "    X_test = vectorizer.transform(test_df['text'])\n",
    "\n",
    "    y_train = train_df['label'].astype(int)\n",
    "    y_valid = valid_df['label'].astype(int)\n",
    "\n",
    "    classifiers = {\n",
    "        'LogisticRegression': LogisticRegression(random_state=0, max_iter=1000),\n",
    "        'MultinomialNB': MultinomialNB(),\n",
    "        'DecisionTreeClassifier': DecisionTreeClassifier(random_state=0),\n",
    "        'LinearSVC': LinearSVC()\n",
    "    }\n",
    "\n",
    "    result = {}\n",
    "    best_model_name = None\n",
    "    min_false_nagative = float('inf')\n",
    "    best_model = None\n",
    "\n",
    "    for name, clf in classifiers.items():\n",
    "        clf.fit(X_train, y_train)\n",
    "        y_pred_valid = clf.predict(X_valid)\n",
    "        cm = confusion_matrix(y_valid, y_pred_valid, labels=[0, 1])\n",
    "\n",
    "        result[name] = {\"ConfusionMatrix\": cm, \"Model\": clf}\n",
    "\n",
    "        if cm.shape == (2, 2):\n",
    "            false_nagative = cm[1, 0]\n",
    "        else:\n",
    "            false_nagative = 0\n",
    "\n",
    "        if false_nagative < min_false_nagative or (\n",
    "            false_nagative == min_false_nagative and name == 'LinearSVC'\n",
    "        ):\n",
    "            min_false_nagative = false_nagative\n",
    "            best_model_name = name\n",
    "            best_model = clf\n",
    "\n",
    "    y_pred_test = best_model.predict(X_test)  # 1D output\n",
    "\n",
    "    results = {\n",
    "        \"LogisticRegression\": result['LogisticRegression'],\n",
    "        \"MultinomialNB\": result['MultinomialNB'],\n",
    "        \"DecisionTreeClassifier\": result['DecisionTreeClassifier'],\n",
    "        \"LinearSVC\": result['LinearSVC'],\n",
    "        \"BestClassifier\": best_model_name,\n",
    "        \"TfidfVectorizer\": X_test,\n",
    "        \"Prediction\": y_pred_test,  # 1D output\n",
    "    }\n",
    "    return results\n",
    "\n"
   ]
  },
  {
   "cell_type": "code",
   "execution_count": 3,
   "id": "5b1a83e6-806c-4f41-96ad-36141e47b170",
   "metadata": {},
   "outputs": [],
   "source": [
    "train_df, valid_df, test_df = [pd.read_csv(f\"data/{name}.csv\") for name in ['train', 'valid', 'test']]"
   ]
  },
  {
   "cell_type": "code",
   "execution_count": 4,
   "id": "6ab9a6c8-0f0c-4f6a-b8d6-ef0420e581f7",
   "metadata": {},
   "outputs": [],
   "source": [
    "output_result = spam_detector(train_df, valid_df, test_df)"
   ]
  },
  {
   "cell_type": "code",
   "execution_count": 8,
   "id": "684d45a8-a840-49e3-9542-8e5f8855b7b4",
   "metadata": {},
   "outputs": [
    {
     "name": "stdout",
     "output_type": "stream",
     "text": [
      "LinearSVC\n",
      "[[ 61   6]\n",
      " [  0 518]]\n"
     ]
    }
   ],
   "source": [
    "print(output_result['BestClassifier'])\n",
    "print(output_result[output_result['BestClassifier']]['ConfusionMatrix'])"
   ]
  },
  {
   "cell_type": "code",
   "execution_count": null,
   "id": "42903279-89ae-40dc-ad61-6243279adc18",
   "metadata": {},
   "outputs": [],
   "source": []
  }
 ],
 "metadata": {
  "kernelspec": {
   "display_name": "Python 3 (ipykernel)",
   "language": "python",
   "name": "python3"
  },
  "language_info": {
   "codemirror_mode": {
    "name": "ipython",
    "version": 3
   },
   "file_extension": ".py",
   "mimetype": "text/x-python",
   "name": "python",
   "nbconvert_exporter": "python",
   "pygments_lexer": "ipython3",
   "version": "3.13.3"
  }
 },
 "nbformat": 4,
 "nbformat_minor": 5
}
